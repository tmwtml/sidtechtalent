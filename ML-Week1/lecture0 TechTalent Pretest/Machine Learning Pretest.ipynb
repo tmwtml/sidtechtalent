{
 "cells": [
  {
   "cell_type": "markdown",
   "metadata": {},
   "source": [
    "# Machine Learning Pretest\n",
    "## First Part: Multiple Choices\n",
    "## https://goo.gl/forms/L3L2RH9NMQtGPe4I2"
   ]
  },
  {
   "cell_type": "markdown",
   "metadata": {},
   "source": [
    "## Second Part: Coding Exercise"
   ]
  },
  {
   "cell_type": "markdown",
   "metadata": {},
   "source": [
    "## Exercise 1\n",
    "### Simulate N coin flips and count number of head and number of tail"
   ]
  },
  {
   "cell_type": "code",
   "execution_count": 7,
   "metadata": {},
   "outputs": [
    {
     "data": {
      "text/plain": [
       "(6, 4)"
      ]
     },
     "execution_count": 7,
     "metadata": {},
     "output_type": "execute_result"
    }
   ],
   "source": [
    "import random\n",
    "def simulate_coin_flips(N, p):\n",
    "    h = 0\n",
    "    t = 0\n",
    "    for i in range(N):\n",
    "        r = random.random()\n",
    "        if r >= p:\n",
    "            h += 1\n",
    "        else:\n",
    "            t += 1\n",
    "    return (h, t)\n",
    "\n",
    "simulate_coin_flips(10,0.5)"
   ]
  },
  {
   "cell_type": "markdown",
   "metadata": {},
   "source": [
    "## Exercise 2\n",
    "### Write a program to simulate data and answer this question: How many coin flips on average does it take to get n consecutive heads?"
   ]
  },
  {
   "cell_type": "code",
   "execution_count": 13,
   "metadata": {},
   "outputs": [
    {
     "data": {
      "text/plain": [
       "28"
      ]
     },
     "execution_count": 13,
     "metadata": {},
     "output_type": "execute_result"
    }
   ],
   "source": [
    "def average_coin_flips_until_n_heads(n, p):\n",
    "    h = 0\n",
    "    i = 0\n",
    "    while h < n:\n",
    "        i += 1\n",
    "        r = random.random()\n",
    "        if r >= p:\n",
    "            h += 1\n",
    "        else:\n",
    "            h = 0\n",
    "    return i\n",
    "\n",
    "average_coin_flips_until_n_heads(4, 0.5)"
   ]
  },
  {
   "cell_type": "markdown",
   "metadata": {},
   "source": [
    "## Exercise 3\n",
    "### Fit linear regression on the simulated data below and show that the fitted parameters are correct"
   ]
  },
  {
   "cell_type": "code",
   "execution_count": 28,
   "metadata": {},
   "outputs": [],
   "source": [
    "import numpy as np\n",
    "\n",
    "x = np.random.normal(size=(100,2))\n",
    "y = 4 + 3 * x[:,0] + 5 * x[:,1]"
   ]
  },
  {
   "cell_type": "code",
   "execution_count": 45,
   "metadata": {},
   "outputs": [
    {
     "name": "stdout",
     "output_type": "stream",
     "text": [
      "(4.0000000000000044, 2.9999999999999978, 4.9999999999999964)\n",
      "3.570902147e-27\n"
     ]
    }
   ],
   "source": [
    "def linear():\n",
    "    p0 = 0\n",
    "    p1 = 0\n",
    "    p2 = 0\n",
    "    for i in range(1000):\n",
    "        h = p0 + p1 * x[:,0] + p2 * x[:,1]\n",
    "        t0 = p0 - 0.1/100 * sum([(hi-yi) for (hi,yi) in zip(h,y)])\n",
    "        t1 = p1 - 0.1/100 * sum([(hi-yi)*xi for (hi,yi,xi) in zip(h,y,x[:,0])])\n",
    "        t2 = p2 - 0.1/100 * sum([(hi-yi)*xi for (hi,yi,xi) in zip(h,y,x[:,1])])\n",
    "        p0 = t0; p1 = t1; p2 = t2\n",
    "    return (p0,p1,p2)\n",
    "\n",
    "l = linear()\n",
    "print(l)\n",
    "\n",
    "z = l[0] + l[1] * x[:,0] + l[2] * x[:,1]\n",
    "error = sum([(zi-yi)**2 for (zi, yi) in zip(z,y)])\n",
    "print(error)"
   ]
  },
  {
   "cell_type": "markdown",
   "metadata": {},
   "source": [
    "## Exercise 4\n",
    "### Given credit card fraud data below, fit a classification model on the trainData and evaluate the model on the testData using Area under curve of ROC (AUC) as a metric\n",
    "### The label column is \"Class\" and other columns are anonymized features\n",
    "### The data is sample from this dataset: https://www.kaggle.com/dalpozz/creditcardfraud"
   ]
  },
  {
   "cell_type": "code",
   "execution_count": null,
   "metadata": {
    "collapsed": true
   },
   "outputs": [],
   "source": [
    "import pandas as pd"
   ]
  },
  {
   "cell_type": "code",
   "execution_count": null,
   "metadata": {
    "collapsed": true
   },
   "outputs": [],
   "source": [
    "trainData = pd.read_csv(\"trainData.csv\")"
   ]
  },
  {
   "cell_type": "code",
   "execution_count": null,
   "metadata": {
    "collapsed": true
   },
   "outputs": [],
   "source": [
    "testData = pd.read_csv(\"testData.csv\")"
   ]
  },
  {
   "cell_type": "code",
   "execution_count": null,
   "metadata": {
    "collapsed": true
   },
   "outputs": [],
   "source": [
    "\"\"\"\n",
    "YOUR CODE HERE\n",
    "\"\"\""
   ]
  }
 ],
 "metadata": {
  "kernelspec": {
   "display_name": "Python 3",
   "language": "python",
   "name": "python3"
  },
  "language_info": {
   "codemirror_mode": {
    "name": "ipython",
    "version": 3
   },
   "file_extension": ".py",
   "mimetype": "text/x-python",
   "name": "python",
   "nbconvert_exporter": "python",
   "pygments_lexer": "ipython3",
   "version": "3.6.1"
  }
 },
 "nbformat": 4,
 "nbformat_minor": 2
}
